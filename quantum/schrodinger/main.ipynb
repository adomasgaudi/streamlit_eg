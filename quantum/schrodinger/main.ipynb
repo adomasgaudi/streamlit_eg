{
 "cells": [
  {
   "cell_type": "code",
   "execution_count": 2,
   "metadata": {},
   "outputs": [
    {
     "ename": "ModuleNotFoundError",
     "evalue": "No module named 'qiskit_aer'",
     "output_type": "error",
     "traceback": [
      "\u001b[1;31m---------------------------------------------------------------------------\u001b[0m",
      "\u001b[1;31mModuleNotFoundError\u001b[0m                       Traceback (most recent call last)",
      "Cell \u001b[1;32mIn[2], line 2\u001b[0m\n\u001b[0;32m      1\u001b[0m \u001b[38;5;28;01mfrom\u001b[39;00m \u001b[38;5;21;01mqiskit\u001b[39;00m \u001b[38;5;28;01mimport\u001b[39;00m QuantumRegister, ClassicalRegister, QuantumCircuit\n\u001b[1;32m----> 2\u001b[0m \u001b[38;5;28;01mfrom\u001b[39;00m \u001b[38;5;21;01mqiskit_aer\u001b[39;00m \u001b[38;5;28;01mimport\u001b[39;00m AerSimulator\n\u001b[0;32m      4\u001b[0m qr_atom \u001b[38;5;241m=\u001b[39m QuantumRegister(\u001b[38;5;241m1\u001b[39m, name\u001b[38;5;241m=\u001b[39m\u001b[38;5;124m\"\u001b[39m\u001b[38;5;124matom\u001b[39m\u001b[38;5;124m\"\u001b[39m)\n\u001b[0;32m      5\u001b[0m qc \u001b[38;5;241m=\u001b[39m QuantumCircuit(qr_atom)\n",
      "\u001b[1;31mModuleNotFoundError\u001b[0m: No module named 'qiskit_aer'"
     ]
    }
   ],
   "source": [
    "from qiskit import QuantumRegister, ClassicalRegister, QuantumCircuit\n",
    "from qiskit_aer import AerSimulator\n",
    "\n",
    "qr_atom = QuantumRegister(1, name=\"atom\")\n",
    "qc = QuantumCircuit(qr_atom)\n",
    "qc.h(qr_atom)   \n",
    "qc.draw('mpl')\n",
    "\n",
    "backend = AerSimulator()\n",
    "\n",
    "qr_cat = QuantumRegister(1, name=\"cat\")\n",
    "qc = QuantumCircuit(qr_atom, qr_cat)\n",
    "qc.h(qr_atom[0])\n",
    "qc.cx(qr_atom[0], qr_cat[0])\n",
    "qr_observer = QuantumRegister(1, name=\"observer\")\n",
    "qc = QuantumCircuit(qr_atom, qr_cat, qr_observer)\n",
    "qc.h(qr_atom[0])\n",
    "qc.cx(qr_atom[0], qr_cat[0])\n",
    "qc.cx(qr_cat[0], qr_observer[0])\n",
    "\n",
    "qc.measure_all()\n",
    "result = backend.run(qc, shots=1000).result()\n",
    "print(result.get_counts())\n",
    "qc.draw('mpl')"
   ]
  },
  {
   "cell_type": "code",
   "execution_count": null,
   "metadata": {},
   "outputs": [
    {
     "ename": "ModuleNotFoundError",
     "evalue": "No module named 'qiskit_aer'",
     "output_type": "error",
     "traceback": [
      "\u001b[1;31m---------------------------------------------------------------------------\u001b[0m\n",
      "\u001b[1;31mModuleNotFoundError\u001b[0m                       Traceback (most recent call last)\n",
      "Cell \u001b[1;32mIn[2], line 2\u001b[0m\n",
      "\u001b[0;32m      1\u001b[0m \u001b[38;5;28;01mfrom\u001b[39;00m \u001b[38;5;21;01mqiskit\u001b[39;00m \u001b[38;5;28;01mimport\u001b[39;00m QuantumRegister, ClassicalRegister, QuantumCircuit\n",
      "\u001b[1;32m----> 2\u001b[0m \u001b[38;5;28;01mfrom\u001b[39;00m \u001b[38;5;21;01mqiskit_aer\u001b[39;00m \u001b[38;5;28;01mimport\u001b[39;00m AerSimulator\n",
      "\u001b[0;32m      4\u001b[0m qr_atom \u001b[38;5;241m=\u001b[39m QuantumRegister(\u001b[38;5;241m1\u001b[39m, name\u001b[38;5;241m=\u001b[39m\u001b[38;5;124m\"\u001b[39m\u001b[38;5;124matom\u001b[39m\u001b[38;5;124m\"\u001b[39m)\n",
      "\u001b[0;32m      5\u001b[0m qc \u001b[38;5;241m=\u001b[39m QuantumCircuit(qr_atom)\n",
      "\n",
      "\u001b[1;31mModuleNotFoundError\u001b[0m: No module named 'qiskit_aer'"
     ]
    }
   ],
   "source": [
    "from qiskit import QuantumRegister, ClassicalRegister, QuantumCircuit\n",
    "from qiskit_aer import AerSimulator\n",
    "\n",
    "qr_atom = QuantumRegister(1, name=\"atom\")\n",
    "qc = QuantumCircuit(qr_atom)\n",
    "qc.h(qr_atom)   \n",
    "qc.draw('mpl')\n",
    "\n",
    "backend = AerSimulator()\n",
    "\n",
    "qr_cat = QuantumRegister(1, name=\"cat\")\n",
    "qc = QuantumCircuit(qr_atom, qr_cat)\n",
    "qc.h(qr_atom[0])\n",
    "qc.cx(qr_atom[0], qr_cat[0])\n",
    "qr_observer = QuantumRegister(1, name=\"observer\")\n",
    "qc = QuantumCircuit(qr_atom, qr_cat, qr_observer)\n",
    "qc.h(qr_atom[0])\n",
    "qc.cx(qr_atom[0], qr_cat[0])\n",
    "qc.cx(qr_cat[0], qr_observer[0])\n",
    "\n",
    "qc.measure_all()\n",
    "result = backend.run(qc, shots=1000).result()\n",
    "print(result.get_counts())\n",
    "qc.draw('mpl')"
   ]
  },
  {
   "cell_type": "code",
   "execution_count": 2,
   "metadata": {},
   "outputs": [
    {
     "name": "stdout",
     "output_type": "stream",
     "text": [
      "{'1': 504, '0': 520}\n"
     ]
    }
   ],
   "source": [
    "# qc.measure_all()\n",
    "\n",
    "# from qiskit_aer import AerSimulator\n",
    "# backend = AerSimulator()\n",
    "# result = backend.run(qc).result()\n",
    "\n",
    "# print(result.get_counts())"
   ]
  },
  {
   "cell_type": "code",
   "execution_count": 3,
   "metadata": {},
   "outputs": [
    {
     "data": {
      "image/png": "[encoded data removed]",
      "text/plain": [
       "<Figure size 325.554x200.667 with 1 Axes>"
      ]
     },
     "execution_count": 3,
     "metadata": {},
     "output_type": "execute_result"
    }
   ],
   "source": [
    "# qr_cat = QuantumRegister(1, name=\"cat\")\n",
    "# qc = QuantumCircuit(qr_atom, qr_cat)\n",
    "# qc.h(qr_atom[0])\n",
    "# qc.cx(qr_atom[0], qr_cat[0])\n",
    "# qc.draw('mpl')"
   ]
  },
  {
   "cell_type": "code",
   "execution_count": 4,
   "metadata": {},
   "outputs": [
    {
     "name": "stdout",
     "output_type": "stream",
     "text": [
      "{'00': 519, '11': 505}\n"
     ]
    }
   ],
   "source": [
    "# qc.measure_all()\n",
    "# result = backend.run(qc).result()\n",
    "# print(result.get_counts())"
   ]
  },
  {
   "cell_type": "code",
   "execution_count": 5,
   "metadata": {},
   "outputs": [
    {
     "name": "stdout",
     "output_type": "stream",
     "text": [
      "{'11': 1}\n"
     ]
    }
   ],
   "source": [
    "# result = backend.run(qc, shots=1).result()\n",
    "# print(result.get_counts())"
   ]
  },
  {
   "cell_type": "code",
   "execution_count": 11,
   "metadata": {},
   "outputs": [
    {
     "data": {
      "image/png": "[encoded data removed]",
      "text/plain": [
       "<Figure size 462.241x284.278 with 1 Axes>"
      ]
     },
     "execution_count": 11,
     "metadata": {},
     "output_type": "execute_result"
    }
   ],
   "source": [
    "\n"
   ]
  },
  {
   "cell_type": "code",
   "execution_count": 10,
   "metadata": {},
   "outputs": [
    {
     "name": "stdout",
     "output_type": "stream",
     "text": [
      "{'111': 515, '000': 485}\n"
     ]
    }
   ],
   "source": []
  }
 ],
 "metadata": {
  "kernelspec": {
   "display_name": "env",
   "language": "python",
   "name": "python3"
  },
  "language_info": {
   "codemirror_mode": {
    "name": "ipython",
    "version": 3
   },
   "file_extension": ".py",
   "mimetype": "text/x-python",
   "name": "python",
   "nbconvert_exporter": "python",
   "pygments_lexer": "ipython3",
   "version": "3.12.0"
  }
 },
 "nbformat": 4,
 "nbformat_minor": 2
}
