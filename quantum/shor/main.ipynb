{
 "cells": [
  {
   "cell_type": "code",
   "execution_count": 6,
   "metadata": {},
   "outputs": [
    {
     "ename": "ImportError",
     "evalue": "cannot import name 'Shor' from 'qiskit.algorithms' (c:\\Users\\AdomasGaudiesius\\AppData\\Local\\Programs\\Python\\Python312\\Lib\\site-packages\\qiskit\\algorithms\\__init__.py)",
     "output_type": "error",
     "traceback": [
      "\u001b[1;31m---------------------------------------------------------------------------\u001b[0m",
      "\u001b[1;31mImportError\u001b[0m                               Traceback (most recent call last)",
      "Cell \u001b[1;32mIn[6], line 3\u001b[0m\n\u001b[0;32m      1\u001b[0m \u001b[38;5;28;01mfrom\u001b[39;00m \u001b[38;5;21;01mqiskit\u001b[39;00m \u001b[38;5;28;01mimport\u001b[39;00m IBMQ\n\u001b[0;32m      2\u001b[0m \u001b[38;5;28;01mfrom\u001b[39;00m \u001b[38;5;21;01mqiskit\u001b[39;00m\u001b[38;5;21;01m.\u001b[39;00m\u001b[38;5;21;01mutils\u001b[39;00m \u001b[38;5;28;01mimport\u001b[39;00m QuantumInstance\n\u001b[1;32m----> 3\u001b[0m \u001b[38;5;28;01mfrom\u001b[39;00m \u001b[38;5;21;01mqiskit\u001b[39;00m\u001b[38;5;21;01m.\u001b[39;00m\u001b[38;5;21;01malgorithms\u001b[39;00m \u001b[38;5;28;01mimport\u001b[39;00m Shor\n\u001b[0;32m      5\u001b[0m MY_TOKEN \u001b[38;5;241m=\u001b[39m \u001b[38;5;124m'\u001b[39m\u001b[38;5;124md79a58cef57641543701b758b34f4eab6b344d1d52a9e18e3d42695dc153028be326695f1388c5b276d36c4a963d1ba15be8ed096a3cfe79be3559411529758c\u001b[39m\u001b[38;5;124m'\u001b[39m\n\u001b[0;32m      7\u001b[0m IBMQ\u001b[38;5;241m.\u001b[39menable_account(MY_TOKEN) \u001b[38;5;66;03m# Your API token here\u001b[39;00m\n",
      "\u001b[1;31mImportError\u001b[0m: cannot import name 'Shor' from 'qiskit.algorithms' (c:\\Users\\AdomasGaudiesius\\AppData\\Local\\Programs\\Python\\Python312\\Lib\\site-packages\\qiskit\\algorithms\\__init__.py)"
     ]
    }
   ],
   "source": [
    "from qiskit import IBMQ\n",
    "from qiskit.utils import QuantumInstance\n",
    "from qiskit.algorithms import Shor\n",
    "\n",
    "MY_TOKEN = 'd79a58cef57641543701b758b34f4eab6b344d1d52a9e18e3d42695dc153028be326695f1388c5b276d36c4a963d1ba15be8ed096a3cfe79be3559411529758c'\n",
    "\n",
    "IBMQ.enable_account(MY_TOKEN) # Your API token here\n",
    "provider = IBMQ.get_provider(hub='ibm-q')\n",
    "\n",
    "# Specifies the quantum device\n",
    "backend = provider.get_backend('ibmq_qasm_simulator')\n",
    "\n",
    "print('\\nShor\\'s Factorization Algorithm')\n",
    "print('--------------------')\n",
    "print('\\nExecuting...\\n')\n",
    "\n",
    "\n",
    "factors = Shor(QuantumInstance(backend, shots=1000, skip_qobj_validation=False))\n",
    "#The integer a needs to satisfy a < N and gcd(a, N) = 1\n",
    "result_dict = factors.factor(N=21, a=2)\n",
    "result = result_dict.factors\n",
    "\n",
    "print(result)\n",
    "\n",
    "[7,3]"
   ]
  }
 ],
 "metadata": {
  "kernelspec": {
   "display_name": "Python 3",
   "language": "python",
   "name": "python3"
  },
  "language_info": {
   "codemirror_mode": {
    "name": "ipython",
    "version": 3
   },
   "file_extension": ".py",
   "mimetype": "text/x-python",
   "name": "python",
   "nbconvert_exporter": "python",
   "pygments_lexer": "ipython3",
   "version": "3.12.0"
  }
 },
 "nbformat": 4,
 "nbformat_minor": 2
}
